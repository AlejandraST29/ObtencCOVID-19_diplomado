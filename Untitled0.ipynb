{
  "nbformat": 4,
  "nbformat_minor": 0,
  "metadata": {
    "colab": {
      "name": "Untitled0.ipynb",
      "provenance": [],
      "authorship_tag": "ABX9TyONeTPFSd9dqUJ7gVOIDCtx",
      "include_colab_link": true
    },
    "kernelspec": {
      "name": "python3",
      "display_name": "Python 3"
    },
    "language_info": {
      "name": "python"
    }
  },
  "cells": [
    {
      "cell_type": "markdown",
      "metadata": {
        "id": "view-in-github",
        "colab_type": "text"
      },
      "source": [
        "<a href=\"https://colab.research.google.com/github/AlejandraST29/ObtencCOVID-19_diplomado/blob/main/Untitled0.ipynb\" target=\"_parent\"><img src=\"https://colab.research.google.com/assets/colab-badge.svg\" alt=\"Open In Colab\"/></a>"
      ]
    },
    {
      "cell_type": "code",
      "metadata": {
        "colab": {
          "base_uri": "https://localhost:8080/"
        },
        "id": "3tmeWHAtL2lB",
        "outputId": "07714b38-610d-4cdb-8247-7d9b7f1045ae"
      },
      "source": [
        "import numpy as np\n",
        "import pandas as pd\n",
        "\n",
        "\n",
        "np.loadtxt(fname='inflammation-01.csv', delimiter=',')\n",
        "data = np.loadtxt(fname='inflammation-01.csv', delimiter=',')\n",
        "print(data)\n",
        "print(type(data))\n",
        "print(data.dtype)\n",
        "print(data.shape)\n",
        "print('first value in data:', data[0, 0])\n",
        "print('middle value in data:', data[30, 20])\n",
        "print(data[0:4, 0:10])\n",
        "small = data[:3, 36:]\n",
        "print('small is:')\n",
        "print(small)\n",
        "print(np.mean(data))\n",
        "import time\n",
        "print(time.ctime())"
      ],
      "execution_count": 19,
      "outputs": [
        {
          "output_type": "stream",
          "text": [
            "[[0. 0. 1. ... 3. 0. 0.]\n",
            " [0. 1. 2. ... 1. 0. 1.]\n",
            " [0. 1. 1. ... 2. 1. 1.]\n",
            " ...\n",
            " [0. 1. 1. ... 1. 1. 1.]\n",
            " [0. 0. 0. ... 0. 2. 0.]\n",
            " [0. 0. 1. ... 1. 1. 0.]]\n",
            "<class 'numpy.ndarray'>\n",
            "float64\n",
            "(60, 40)\n",
            "first value in data: 0.0\n",
            "middle value in data: 13.0\n",
            "[[0. 0. 1. 3. 1. 2. 4. 7. 8. 3.]\n",
            " [0. 1. 2. 1. 2. 1. 3. 2. 2. 6.]\n",
            " [0. 1. 1. 3. 3. 2. 6. 2. 5. 9.]\n",
            " [0. 0. 2. 0. 4. 2. 2. 1. 6. 7.]]\n",
            "small is:\n",
            "[[2. 3. 0. 0.]\n",
            " [1. 1. 0. 1.]\n",
            " [2. 2. 1. 1.]]\n",
            "6.14875\n",
            "Sat May  1 00:43:39 2021\n"
          ],
          "name": "stdout"
        }
      ]
    },
    {
      "cell_type": "code",
      "metadata": {
        "id": "WWh04jwLW-9Y"
      },
      "source": [
        ""
      ],
      "execution_count": null,
      "outputs": []
    }
  ]
}